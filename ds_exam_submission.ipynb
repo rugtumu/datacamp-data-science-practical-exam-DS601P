{
 "cells": [
  {
   "cell_type": "markdown",
   "metadata": {},
   "source": [
    "# Data Scientist Professional Practical Exam Submission"
   ]
  },
  {
   "cell_type": "markdown",
   "metadata": {
    "notebookRunGroups": {
     "groupValue": "1"
    }
   },
   "source": [
    "The objective of this project is to assist the product team by predicting which recipes are likely to generate high traffic when featured on the homepage of Tasty Bytes. This capability could significantly increase site traffic and, consequently, subscriptions."
   ]
  },
  {
   "cell_type": "markdown",
   "metadata": {},
   "source": [
    "We'll start by validating the data, including removing any duplicates, filling in missing values, and correcting data types of the columns in our dataframe. Next, we'll explore the data to gather insights, which will guide us in developing an appropriate machine learning model. After building the model, we'll evaluate its effectiveness. Finally, we will relate our findings to business metrics and offer recommendations to enhance business outcomes."
   ]
  },
  {
   "cell_type": "markdown",
   "metadata": {},
   "source": [
    "### Data Validation"
   ]
  },
  {
   "cell_type": "code",
   "execution_count": 13,
   "metadata": {},
   "outputs": [
    {
     "data": {
      "text/html": [
       "<div>\n",
       "<style scoped>\n",
       "    .dataframe tbody tr th:only-of-type {\n",
       "        vertical-align: middle;\n",
       "    }\n",
       "\n",
       "    .dataframe tbody tr th {\n",
       "        vertical-align: top;\n",
       "    }\n",
       "\n",
       "    .dataframe thead th {\n",
       "        text-align: right;\n",
       "    }\n",
       "</style>\n",
       "<table border=\"1\" class=\"dataframe\">\n",
       "  <thead>\n",
       "    <tr style=\"text-align: right;\">\n",
       "      <th></th>\n",
       "      <th>recipe</th>\n",
       "      <th>calories</th>\n",
       "      <th>carbohydrate</th>\n",
       "      <th>sugar</th>\n",
       "      <th>protein</th>\n",
       "      <th>category</th>\n",
       "      <th>servings</th>\n",
       "      <th>high_traffic</th>\n",
       "    </tr>\n",
       "  </thead>\n",
       "  <tbody>\n",
       "    <tr>\n",
       "      <th>0</th>\n",
       "      <td>1</td>\n",
       "      <td>NaN</td>\n",
       "      <td>NaN</td>\n",
       "      <td>NaN</td>\n",
       "      <td>NaN</td>\n",
       "      <td>Pork</td>\n",
       "      <td>6</td>\n",
       "      <td>High</td>\n",
       "    </tr>\n",
       "    <tr>\n",
       "      <th>1</th>\n",
       "      <td>2</td>\n",
       "      <td>35.48</td>\n",
       "      <td>38.56</td>\n",
       "      <td>0.66</td>\n",
       "      <td>0.92</td>\n",
       "      <td>Potato</td>\n",
       "      <td>4</td>\n",
       "      <td>High</td>\n",
       "    </tr>\n",
       "    <tr>\n",
       "      <th>2</th>\n",
       "      <td>3</td>\n",
       "      <td>914.28</td>\n",
       "      <td>42.68</td>\n",
       "      <td>3.09</td>\n",
       "      <td>2.88</td>\n",
       "      <td>Breakfast</td>\n",
       "      <td>1</td>\n",
       "      <td>NaN</td>\n",
       "    </tr>\n",
       "    <tr>\n",
       "      <th>3</th>\n",
       "      <td>4</td>\n",
       "      <td>97.03</td>\n",
       "      <td>30.56</td>\n",
       "      <td>38.63</td>\n",
       "      <td>0.02</td>\n",
       "      <td>Beverages</td>\n",
       "      <td>4</td>\n",
       "      <td>High</td>\n",
       "    </tr>\n",
       "    <tr>\n",
       "      <th>4</th>\n",
       "      <td>5</td>\n",
       "      <td>27.05</td>\n",
       "      <td>1.85</td>\n",
       "      <td>0.80</td>\n",
       "      <td>0.53</td>\n",
       "      <td>Beverages</td>\n",
       "      <td>4</td>\n",
       "      <td>NaN</td>\n",
       "    </tr>\n",
       "    <tr>\n",
       "      <th>5</th>\n",
       "      <td>6</td>\n",
       "      <td>691.15</td>\n",
       "      <td>3.46</td>\n",
       "      <td>1.65</td>\n",
       "      <td>53.93</td>\n",
       "      <td>One Dish Meal</td>\n",
       "      <td>2</td>\n",
       "      <td>High</td>\n",
       "    </tr>\n",
       "    <tr>\n",
       "      <th>6</th>\n",
       "      <td>7</td>\n",
       "      <td>183.94</td>\n",
       "      <td>47.95</td>\n",
       "      <td>9.75</td>\n",
       "      <td>46.71</td>\n",
       "      <td>Chicken Breast</td>\n",
       "      <td>4</td>\n",
       "      <td>NaN</td>\n",
       "    </tr>\n",
       "    <tr>\n",
       "      <th>7</th>\n",
       "      <td>8</td>\n",
       "      <td>299.14</td>\n",
       "      <td>3.17</td>\n",
       "      <td>0.40</td>\n",
       "      <td>32.40</td>\n",
       "      <td>Lunch/Snacks</td>\n",
       "      <td>4</td>\n",
       "      <td>NaN</td>\n",
       "    </tr>\n",
       "    <tr>\n",
       "      <th>8</th>\n",
       "      <td>9</td>\n",
       "      <td>538.52</td>\n",
       "      <td>3.78</td>\n",
       "      <td>3.37</td>\n",
       "      <td>3.79</td>\n",
       "      <td>Pork</td>\n",
       "      <td>6</td>\n",
       "      <td>High</td>\n",
       "    </tr>\n",
       "    <tr>\n",
       "      <th>9</th>\n",
       "      <td>10</td>\n",
       "      <td>248.28</td>\n",
       "      <td>48.54</td>\n",
       "      <td>3.99</td>\n",
       "      <td>113.85</td>\n",
       "      <td>Chicken</td>\n",
       "      <td>2</td>\n",
       "      <td>NaN</td>\n",
       "    </tr>\n",
       "  </tbody>\n",
       "</table>\n",
       "</div>"
      ],
      "text/plain": [
       "   recipe  calories  carbohydrate  sugar  protein        category servings  \\\n",
       "0       1       NaN           NaN    NaN      NaN            Pork        6   \n",
       "1       2     35.48         38.56   0.66     0.92          Potato        4   \n",
       "2       3    914.28         42.68   3.09     2.88       Breakfast        1   \n",
       "3       4     97.03         30.56  38.63     0.02       Beverages        4   \n",
       "4       5     27.05          1.85   0.80     0.53       Beverages        4   \n",
       "5       6    691.15          3.46   1.65    53.93   One Dish Meal        2   \n",
       "6       7    183.94         47.95   9.75    46.71  Chicken Breast        4   \n",
       "7       8    299.14          3.17   0.40    32.40    Lunch/Snacks        4   \n",
       "8       9    538.52          3.78   3.37     3.79            Pork        6   \n",
       "9      10    248.28         48.54   3.99   113.85         Chicken        2   \n",
       "\n",
       "  high_traffic  \n",
       "0         High  \n",
       "1         High  \n",
       "2          NaN  \n",
       "3         High  \n",
       "4          NaN  \n",
       "5         High  \n",
       "6          NaN  \n",
       "7          NaN  \n",
       "8         High  \n",
       "9          NaN  "
      ]
     },
     "execution_count": 13,
     "metadata": {},
     "output_type": "execute_result"
    }
   ],
   "source": [
    "# Import necessary libraries\n",
    "import pandas as pd\n",
    "import numpy as np\n",
    "import seaborn as sns\n",
    "import matplotlib.pyplot as plt\n",
    "from scipy.stats import boxcox, yeojohnson\n",
    "from scipy.stats.mstats import winsorize\n",
    "from sklearn.model_selection import train_test_split\n",
    "from sklearn.tree import DecisionTreeClassifier\n",
    "from sklearn.linear_model import LogisticRegression\n",
    "from sklearn.ensemble import RandomForestClassifier\n",
    "from sklearn.svm import SVC\n",
    "from sklearn.metrics import accuracy_score, confusion_matrix, f1_score, precision_score, recall_score\n",
    "\n",
    "# Import csv file\n",
    "recipe_site_traffic = pd.read_csv(\"recipe_site_traffic_2212.csv\")\n",
    "\n",
    "# Looking for the first rows of the data\n",
    "recipe_site_traffic.head(10)"
   ]
  },
  {
   "cell_type": "code",
   "execution_count": 14,
   "metadata": {},
   "outputs": [
    {
     "data": {
      "text/plain": [
       "np.int64(0)"
      ]
     },
     "execution_count": 14,
     "metadata": {},
     "output_type": "execute_result"
    }
   ],
   "source": [
    "# Check if there are duplicates\n",
    "recipe_site_traffic.duplicated(subset='recipe').sum()"
   ]
  },
  {
   "cell_type": "markdown",
   "metadata": {},
   "source": [
    "Since there are no duplicated recipes, we don't have to remove any rows. Now we will examine the dimensions of our dataset. Next, we'll analyze the dataset's structure by looking at the number of rows and columns, as well as identifying the names of the columns and their data types. We'll also check for the presence of non-null values in each column. Should there be a need for data type conversions or if missing values are found, we will take necessary measures to correct these issues."
   ]
  },
  {
   "cell_type": "code",
   "execution_count": 15,
   "metadata": {},
   "outputs": [
    {
     "name": "stdout",
     "output_type": "stream",
     "text": [
      "<class 'pandas.core.frame.DataFrame'>\n",
      "RangeIndex: 947 entries, 0 to 946\n",
      "Data columns (total 8 columns):\n",
      " #   Column        Non-Null Count  Dtype  \n",
      "---  ------        --------------  -----  \n",
      " 0   recipe        947 non-null    int64  \n",
      " 1   calories      895 non-null    float64\n",
      " 2   carbohydrate  895 non-null    float64\n",
      " 3   sugar         895 non-null    float64\n",
      " 4   protein       895 non-null    float64\n",
      " 5   category      947 non-null    object \n",
      " 6   servings      947 non-null    object \n",
      " 7   high_traffic  574 non-null    object \n",
      "dtypes: float64(4), int64(1), object(3)\n",
      "memory usage: 59.3+ KB\n"
     ]
    }
   ],
   "source": [
    "# Looking for the data types\n",
    "recipe_site_traffic.info()"
   ]
  },
  {
   "cell_type": "code",
   "execution_count": 16,
   "metadata": {},
   "outputs": [
    {
     "data": {
      "text/plain": [
       "servings\n",
       "4               389\n",
       "6               197\n",
       "2               183\n",
       "1               175\n",
       "4 as a snack      2\n",
       "6 as a snack      1\n",
       "Name: count, dtype: int64"
      ]
     },
     "execution_count": 16,
     "metadata": {},
     "output_type": "execute_result"
    }
   ],
   "source": [
    "# Check the values of 'servings'\n",
    "recipe_site_traffic['servings'].value_counts()"
   ]
  },
  {
   "cell_type": "code",
   "execution_count": 17,
   "metadata": {},
   "outputs": [
    {
     "data": {
      "text/plain": [
       "servings\n",
       "4    391\n",
       "6    198\n",
       "2    183\n",
       "1    175\n",
       "Name: count, dtype: int64"
      ]
     },
     "execution_count": 17,
     "metadata": {},
     "output_type": "execute_result"
    }
   ],
   "source": [
    "# Replace the rows written \"as a snack\" with their belonging numeric numbers\n",
    "recipe_site_traffic['servings'] = recipe_site_traffic['servings'].str.replace(\" as a snack\", \"\")\n",
    "\n",
    "# Check for the values\n",
    "recipe_site_traffic['servings'].value_counts()"
   ]
  },
  {
   "cell_type": "code",
   "execution_count": 18,
   "metadata": {},
   "outputs": [
    {
     "data": {
      "text/plain": [
       "high_traffic\n",
       "High    574\n",
       "Name: count, dtype: int64"
      ]
     },
     "execution_count": 18,
     "metadata": {},
     "output_type": "execute_result"
    }
   ],
   "source": [
    "# Convert data types of servings column to integer\n",
    "recipe_site_traffic['servings'] = recipe_site_traffic['servings'].astype('int')\n",
    "\n",
    "# Check for the values of high_traffic column\n",
    "recipe_site_traffic['high_traffic'].value_counts()"
   ]
  },
  {
   "cell_type": "code",
   "execution_count": 19,
   "metadata": {},
   "outputs": [
    {
     "data": {
      "text/plain": [
       "high_traffic\n",
       "True     574\n",
       "False    373\n",
       "Name: count, dtype: int64"
      ]
     },
     "execution_count": 19,
     "metadata": {},
     "output_type": "execute_result"
    }
   ],
   "source": [
    "# Replace the \"High\" values with True and null values with False\n",
    "recipe_site_traffic['high_traffic'] = np.where(recipe_site_traffic['high_traffic'] == \"High\", True, False)\n",
    "\n",
    "# Checking for the values of high_traffic column again\n",
    "recipe_site_traffic['high_traffic'].value_counts()"
   ]
  },
  {
   "cell_type": "code",
   "execution_count": 20,
   "metadata": {},
   "outputs": [
    {
     "data": {
      "text/plain": [
       "category\n",
       "Breakfast         106\n",
       "Chicken Breast     98\n",
       "Beverages          92\n",
       "Lunch/Snacks       89\n",
       "Potato             88\n",
       "Pork               84\n",
       "Vegetable          83\n",
       "Dessert            83\n",
       "Meat               79\n",
       "Chicken            74\n",
       "One Dish Meal      71\n",
       "Name: count, dtype: int64"
      ]
     },
     "execution_count": 20,
     "metadata": {},
     "output_type": "execute_result"
    }
   ],
   "source": [
    "# Check for the values of category column\n",
    "recipe_site_traffic['category'].value_counts()"
   ]
  }
 ],
 "metadata": {
  "kernelspec": {
   "display_name": "base",
   "language": "python",
   "name": "python3"
  },
  "language_info": {
   "codemirror_mode": {
    "name": "ipython",
    "version": 3
   },
   "file_extension": ".py",
   "mimetype": "text/x-python",
   "name": "python",
   "nbconvert_exporter": "python",
   "pygments_lexer": "ipython3",
   "version": "3.11.5"
  }
 },
 "nbformat": 4,
 "nbformat_minor": 2
}

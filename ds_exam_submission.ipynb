{
 "cells": [
  {
   "cell_type": "markdown",
   "metadata": {},
   "source": [
    "# Data Scientist Professional Practical Exam Submission"
   ]
  },
  {
   "cell_type": "markdown",
   "metadata": {
    "notebookRunGroups": {
     "groupValue": "1"
    }
   },
   "source": [
    "The objective of this project is to assist the product team by predicting which recipes are likely to generate high traffic when featured on the homepage of Tasty Bytes. This capability could significantly increase site traffic and, consequently, subscriptions."
   ]
  },
  {
   "cell_type": "markdown",
   "metadata": {},
   "source": [
    "We'll start by validating the data, including removing any duplicates, filling in missing values, and correcting data types of the columns in our dataframe. Next, we'll explore the data to gather insights, which will guide us in developing an appropriate machine learning model. After building the model, we'll evaluate its effectiveness. Finally, we will relate our findings to business metrics and offer recommendations to enhance business outcomes."
   ]
  },
  {
   "cell_type": "code",
   "execution_count": 2,
   "metadata": {},
   "outputs": [
    {
     "name": "stdout",
     "output_type": "stream",
     "text": [
      "<class 'pandas.core.frame.DataFrame'>\n",
      "RangeIndex: 947 entries, 0 to 946\n",
      "Data columns (total 8 columns):\n",
      " #   Column        Non-Null Count  Dtype  \n",
      "---  ------        --------------  -----  \n",
      " 0   recipe        947 non-null    int64  \n",
      " 1   calories      895 non-null    float64\n",
      " 2   carbohydrate  895 non-null    float64\n",
      " 3   sugar         895 non-null    float64\n",
      " 4   protein       895 non-null    float64\n",
      " 5   category      947 non-null    object \n",
      " 6   servings      947 non-null    object \n",
      " 7   high_traffic  574 non-null    object \n",
      "dtypes: float64(4), int64(1), object(3)\n",
      "memory usage: 59.3+ KB\n"
     ]
    }
   ],
   "source": [
    "# Import necessary libraries\n",
    "import pandas as pd\n",
    "import numpy as np\n",
    "import seaborn as sns\n",
    "import matplotlib.pyplot as plt\n",
    "from scipy.stats import boxcox, yeojohnson\n",
    "from scipy.stats.mstats import winsorize\n",
    "from sklearn.model_selection import train_test_split\n",
    "from sklearn.tree import DecisionTreeClassifier\n",
    "from sklearn.linear_model import LogisticRegression\n",
    "from sklearn.ensemble import RandomForestClassifier\n",
    "from sklearn.svm import SVC\n",
    "from sklearn.metrics import accuracy_score, confusion_matrix, f1_score, precision_score, recall_score\n",
    "\n",
    "# Import csv file\n",
    "recipe_site_traffic = pd.read_csv(\"recipe_site_traffic_2212.csv\")\n",
    "\n",
    "# Looking for the first rows of the data\n",
    "recipe_site_traffic.info()"
   ]
  },
  {
   "cell_type": "markdown",
   "metadata": {},
   "source": []
  }
 ],
 "metadata": {
  "kernelspec": {
   "display_name": "base",
   "language": "python",
   "name": "python3"
  },
  "language_info": {
   "codemirror_mode": {
    "name": "ipython",
    "version": 3
   },
   "file_extension": ".py",
   "mimetype": "text/x-python",
   "name": "python",
   "nbconvert_exporter": "python",
   "pygments_lexer": "ipython3",
   "version": "3.11.5"
  }
 },
 "nbformat": 4,
 "nbformat_minor": 2
}

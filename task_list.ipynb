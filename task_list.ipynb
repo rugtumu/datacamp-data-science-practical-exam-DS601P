{
 "cells": [
  {
   "cell_type": "markdown",
   "metadata": {},
   "source": [
    "## 📝 Task List\n",
    "\n",
    "Your written report should include both code, output and written text summaries of the following:\n",
    "- Data Validation:   \n",
    "  - Describe validation and cleaning steps for every column in the data \n",
    "- Exploratory Analysis:  \n",
    "  - Include two different graphics showing single variables only to demonstrate the characteristics of data  \n",
    "  - Include at least one graphic showing two or more variables to represent the relationship between features\n",
    "  - Describe your findings\n",
    "- Model Development\n",
    "  - Include your reasons for selecting the models you use as well as a statement of the problem type\n",
    "  - Code to fit the baseline and comparison models\n",
    "- Model Evaluation\n",
    "  - Describe the performance of the two models based on an appropriate metric\n",
    "- Business Metrics\n",
    "  - Define a way to compare your model performance to the business\n",
    "  - Describe how your models perform using this approach\n",
    "- Final summary including recommendations that the business should undertake"
   ]
  }
 ],
 "metadata": {
  "language_info": {
   "name": "python"
  }
 },
 "nbformat": 4,
 "nbformat_minor": 2
}
